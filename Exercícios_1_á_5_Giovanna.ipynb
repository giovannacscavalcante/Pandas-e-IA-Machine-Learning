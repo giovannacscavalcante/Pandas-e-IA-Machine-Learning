{
  "cells": [
    {
      "cell_type": "markdown",
      "metadata": {
        "id": "view-in-github",
        "colab_type": "text"
      },
      "source": [
        "<a href=\"https://colab.research.google.com/github/giovannacscavalcante/Pandas-e-IA-Machine-Learning/blob/main/Exerc%C3%ADcios_1_%C3%A1_5_Giovanna.ipynb\" target=\"_parent\"><img src=\"https://colab.research.google.com/assets/colab-badge.svg\" alt=\"Open In Colab\"/></a>"
      ]
    },
    {
      "cell_type": "markdown",
      "metadata": {
        "id": "vRrnb5Tnt6Dc"
      },
      "source": [
        "# Exercício - Mini Projeto de Análise de Dados\n",
        "\n",
        "Vamos fazer um exercício completo de pandas para um miniprojeto de análise de dados.\n",
        "\n",
        "Esse exercício vai obrigar a gente a usar boa parte dos conhecimento de pandas e até de outros módulos que já aprendemos ao longo do curso.\n",
        "\n",
        "### O que temos?\n",
        "\n",
        "Temos os dados de 2019 de uma empresa de prestação de serviços. \n",
        "\n",
        "- CadastroFuncionarios\n",
        "- CadastroClientes\n",
        "- BaseServiçosPrestados\n",
        "\n",
        "Obs1: Para ler arquivos csv, temos o read_csv<br>\n",
        "Obs2: Para ler arquivos xlsx (arquivos em excel normais, que não são padrão csv), temos o read_excel\n",
        "\n",
        "### O que queremos saber/fazer?\n",
        "\n",
        "1. Valor Total da Folha Salarial -> Qual foi o gasto total com salários de funcionários pela empresa? <br>\n",
        "    Sugestão: calcule o salário total de cada funcionário, salário + benefícios + impostos, depois some todos os salários\n",
        "    \n",
        "    \n",
        "2. Qual foi o faturamento da empresa?<br>\n",
        "    Sugestão: calcule o faturamento total de cada serviço e depois some o faturamento de todos\n",
        "    \n",
        "    \n",
        "3. Qual o % de funcionários que já fechou algum contrato?<br>\n",
        "    Sugestão: na base de serviços temos o funcionário que fechou cada serviço. Mas nem todos os funcionários que a empresa tem já fecharam algum serviço.<br>\n",
        "    . Na base de funcionários temos uma lista com todos os funcionários<br>\n",
        "    . Queremos calcular Qtde_Funcionarios_Fecharam_Serviço / Qtde_Funcionários_Totais<br>\n",
        "    . Para calcular a qtde de funcionários que fecharam algum serviço, use a base de serviços e conte quantos funcionários tem ali. Mas lembre-se, cada funcionário só pode ser contado uma única vez.<br><br>\n",
        "    Dica: se você aplicar o método .unique() em uma variável que é apenas 1 coluna de um dataframe, ele vai excluir todos os valores duplicados daquela coluna.<br>\n",
        "    Ex: unicos_colunaA = dataframe['colunaA'].unique() te dá como resposta uma lista com todos os itens da colunaA aparecendo uma única vez. Todos os valores repetidos da colunaA são excluidos da variável unicos_colunaA \n",
        "    \n",
        "    \n",
        "4. Calcule o total de contratos que cada área da empresa já fechou\n",
        "\n",
        "\n",
        "5. Calcule o total de funcionários por área\n",
        "\n",
        "\n",
        "6. Qual o ticket médio mensal (faturamento médio mensal) dos contratos?<br>\n",
        "    Dica: .mean() calcula a média -> exemplo: media_colunaA = dataframe['colunaA'].mean()\n",
        "\n",
        "Obs: Lembrando as opções mais usuais de encoding:<br>\n",
        "encoding='latin1', encoding='ISO-8859-1', encoding='utf-8' ou então encoding='cp1252'\n",
        "\n",
        "Observação Importante: Se o seu código der um erro na hora de importar os arquivos:<br>\n",
        "- CadastroClientes.csv\n",
        "- CadastroFuncionarios.csv\n",
        "\n",
        "Use separador \";\" (ponto e vírgula) para resolver e inclua o parâmetro decimal ',' para o pandas identificar os números corretamente"
      ]
    },
    {
      "cell_type": "markdown",
      "metadata": {
        "id": "vtf1_WuKt6Dj"
      },
      "source": [
        "### Importando módulos e arquivos"
      ]
    },
    {
      "cell_type": "code",
      "execution_count": null,
      "metadata": {
        "id": "3hNc685ot6Dk",
        "scrolled": true
      },
      "outputs": [],
      "source": [
        "import pandas as pd\n",
        "\n",
        "funcionarios_df = pd.read_csv('CadastroFuncionarios.csv', sep=';', decimal=',')\n",
        "clientes_df = pd.read_csv('CadastroClientes.csv', sep=';', decimal=',')\n",
        "servicos_df = pd.read_excel('BaseServiçosPrestados.xlsx')\n",
        "\n",
        "funcionarios_df = funcionarios_df.drop(['Estado Civil', 'Cargo'], axis=1)\n",
        "display(funcionarios_df)\n",
        "display(clientes_df)\n",
        "display(servicos_df)"
      ]
    },
    {
      "cell_type": "markdown",
      "metadata": {
        "id": "kAl_F2kXt6Dm"
      },
      "source": [
        "### 1 - Folha Salarial"
      ]
    },
    {
      "cell_type": "code",
      "execution_count": null,
      "metadata": {
        "id": "G7-aFD3yt6Dm"
      },
      "outputs": [],
      "source": [
        "funcionarios_df['Salario Total'] = funcionarios_df['Salario Base'] + funcionarios_df['Impostos'] + funcionarios_df['Beneficios'] + funcionarios_df['VT'] + funcionarios_df['VR']\n",
        "print(' O total de folha salarial é R${:,}'.format(sum(funcionarios_df['Salario Total'])))"
      ]
    },
    {
      "cell_type": "markdown",
      "metadata": {
        "id": "G7bLmL8St6Dn"
      },
      "source": [
        "### 2 - Faturamento da Empresa"
      ]
    },
    {
      "cell_type": "code",
      "execution_count": null,
      "metadata": {
        "id": "55tANn43t6Do"
      },
      "outputs": [],
      "source": [
        "faturamento_df = servicos_df[['ID Cliente', 'Tempo Total de Contrato (Meses)']].merge(clientes_df[['ID Cliente', 'Valor Contrato Mensal']])\n",
        "#display(faturamento_df)\n",
        "print('O faturamento foi R${:,}'.format(sum(faturamento_df['Tempo Total de Contrato (Meses)'] * faturamento_df['Valor Contrato Mensal'])))"
      ]
    },
    {
      "cell_type": "markdown",
      "metadata": {
        "id": "d8yn-gBLt6Do"
      },
      "source": [
        "### 3 - Percentual de Funcionários que fechou contrato"
      ]
    },
    {
      "cell_type": "code",
      "execution_count": null,
      "metadata": {
        "id": "WXvR5Etot6Dp"
      },
      "outputs": [],
      "source": [
        "qtde_funcionarios_fecharam = len(servicos_df['ID Funcionário'].unique())\n",
        "qtde_funcionarios_totais = len(funcionarios_df['ID Funcionário'])\n",
        "print('O percentual foi de {:.2%}'.format(qtde_funcionarios_fecharam / qtde_funcionarios_totais))"
      ]
    },
    {
      "cell_type": "markdown",
      "metadata": {
        "id": "BouoRFAtt6Dq"
      },
      "source": [
        "### 4 - Total de Contratos por Área"
      ]
    },
    {
      "cell_type": "code",
      "execution_count": null,
      "metadata": {
        "id": "TjnKtgWJt6Dq"
      },
      "outputs": [],
      "source": [
        "contratos_area_df = servicos_df[['ID Funcionário']].merge(funcionarios_df[['ID Funcionário', 'Area']])\n",
        "#display(contratos_area_df)\n",
        "qtde_contratos_area = contratos_area_df['Area'].value_counts()\n",
        "print(qtde_contratos_area)\n"
      ]
    },
    {
      "cell_type": "markdown",
      "metadata": {
        "id": "UMaycnult6Dr"
      },
      "source": [
        "### 5 - Total de Funcionários por Área"
      ]
    },
    {
      "cell_type": "code",
      "execution_count": null,
      "metadata": {
        "id": "T2KlbUFXt6Dr"
      },
      "outputs": [],
      "source": [
        "qtde_funcionarios_area = funcionarios_df['Area'].value_counts()\n",
        "print(qtde_funcionarios_area)\n"
      ]
    },
    {
      "cell_type": "markdown",
      "metadata": {
        "id": "9Z4qnzitt6Ds"
      },
      "source": [
        "### 6 - Ticket Médio Mensal"
      ]
    },
    {
      "cell_type": "code",
      "execution_count": null,
      "metadata": {
        "id": "9Jt79CPRt6Ds"
      },
      "outputs": [],
      "source": [
        "ticket_medio = clientes_df['Valor Contrato Mensal'].mean()\n",
        "print('O ticket médio mensal é de R${:,.2f}'.format(ticket_medio))"
      ]
    }
  ],
  "metadata": {
    "colab": {
      "name": "Exercícios 1 á 5 Giovanna",
      "provenance": [],
      "include_colab_link": true
    },
    "kernelspec": {
      "display_name": "Python 3 (ipykernel)",
      "language": "python",
      "name": "python3"
    },
    "language_info": {
      "codemirror_mode": {
        "name": "ipython",
        "version": 3
      },
      "file_extension": ".py",
      "mimetype": "text/x-python",
      "name": "python",
      "nbconvert_exporter": "python",
      "pygments_lexer": "ipython3",
      "version": "3.9.12"
    }
  },
  "nbformat": 4,
  "nbformat_minor": 0
}